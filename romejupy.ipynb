{
 "cells": [
  {
   "cell_type": "code",
   "execution_count": null,
   "metadata": {},
   "outputs": [],
   "source": [
    "td.return_PID_values(img, tags[0], pid_horizontal, pid_vertical)"
   ]
  },
  {
   "cell_type": "code",
   "execution_count": 6,
   "metadata": {},
   "outputs": [],
   "source": [
    "img=cv2.imread(\"test_image.png\")"
   ]
  },
  {
   "cell_type": "code",
   "execution_count": 8,
   "metadata": {},
   "outputs": [],
   "source": [
    "import tag_detection as td\n",
    "import cv2\n",
    "import numpy as np\n",
    "import matplotlib.pyplot as plt\n",
    "import pid"
   ]
  },
  {
   "cell_type": "code",
   "execution_count": 10,
   "metadata": {},
   "outputs": [],
   "source": [
    "My_tags=td.TD()"
   ]
  },
  {
   "cell_type": "code",
   "execution_count": 12,
   "metadata": {},
   "outputs": [
    {
     "data": {
      "text/plain": [
       "array([[0, 0, 0, ..., 0, 0, 0],\n",
       "       [0, 0, 0, ..., 0, 0, 0],\n",
       "       [0, 0, 0, ..., 0, 0, 0],\n",
       "       ...,\n",
       "       [0, 0, 0, ..., 0, 0, 0],\n",
       "       [0, 0, 0, ..., 0, 0, 0],\n",
       "       [0, 0, 0, ..., 0, 0, 0]], dtype=uint8)"
      ]
     },
     "execution_count": 12,
     "metadata": {},
     "output_type": "execute_result"
    }
   ],
   "source": [
    "My_tags.make_gray(img)"
   ]
  },
  {
   "cell_type": "code",
   "execution_count": 7,
   "metadata": {},
   "outputs": [
    {
     "ename": "AssertionError",
     "evalue": "",
     "output_type": "error",
     "traceback": [
      "\u001b[0;31m---------------------------------------------------------------------------\u001b[0m",
      "\u001b[0;31mAssertionError\u001b[0m                            Traceback (most recent call last)",
      "Cell \u001b[0;32mIn[7], line 1\u001b[0m\n\u001b[0;32m----> 1\u001b[0m My_tags\u001b[39m.\u001b[39;49mdetect_tags(img)\n",
      "File \u001b[0;32m~/apriltag_following/tag_detection.py:24\u001b[0m, in \u001b[0;36mdetect_tags\u001b[0;34m(self, img)\u001b[0m\n\u001b[1;32m     21\u001b[0m     \u001b[39mself\u001b[39m\u001b[39m.\u001b[39mcamera_params \u001b[39m=\u001b[39m ( \u001b[39mself\u001b[39m\u001b[39m.\u001b[39mcameraMatrix[\u001b[39m0\u001b[39m,\u001b[39m0\u001b[39m], \u001b[39mself\u001b[39m\u001b[39m.\u001b[39mcameraMatrix[\u001b[39m1\u001b[39m,\u001b[39m1\u001b[39m], \u001b[39mself\u001b[39m\u001b[39m.\u001b[39mcameraMatrix[\u001b[39m0\u001b[39m,\u001b[39m2\u001b[39m], \u001b[39mself\u001b[39m\u001b[39m.\u001b[39mcameraMatrix[\u001b[39m1\u001b[39m,\u001b[39m2\u001b[39m] )\n\u001b[1;32m     22\u001b[0m     \u001b[39mself\u001b[39m\u001b[39m.\u001b[39mimg\u001b[39m=\u001b[39mimg\n\u001b[0;32m---> 24\u001b[0m \u001b[39mdef\u001b[39;00m \u001b[39mdetect_tags\u001b[39m(\u001b[39mself\u001b[39m, img):\n\u001b[1;32m     25\u001b[0m     \u001b[39mreturn\u001b[39;00m \u001b[39mself\u001b[39m\u001b[39m.\u001b[39mat_detector\u001b[39m.\u001b[39mdetect(img, \u001b[39mTrue\u001b[39;00m, \u001b[39mself\u001b[39m\u001b[39m.\u001b[39mcamera_params, tag_size  \u001b[39m=\u001b[39m \u001b[39m0.1\u001b[39m)\n\u001b[1;32m     27\u001b[0m \u001b[39mdef\u001b[39;00m \u001b[39mget_video\u001b[39m(\u001b[39mself\u001b[39m, src\u001b[39m=\u001b[39m\u001b[39m\"\u001b[39m\u001b[39mAprilTagTest.mkv\u001b[39m\u001b[39m\"\u001b[39m):\n",
      "File \u001b[0;32m~/.virtualenvs/bluecv/lib/python3.9/site-packages/dt_apriltags/apriltags.py:355\u001b[0m, in \u001b[0;36mDetector.detect\u001b[0;34m(self, img, estimate_tag_pose, camera_params, tag_size)\u001b[0m\n\u001b[1;32m    350\u001b[0m \u001b[39mdef\u001b[39;00m \u001b[39mdetect\u001b[39m(\u001b[39mself\u001b[39m, img, estimate_tag_pose\u001b[39m=\u001b[39m\u001b[39mFalse\u001b[39;00m, camera_params\u001b[39m=\u001b[39m\u001b[39mNone\u001b[39;00m, tag_size\u001b[39m=\u001b[39m\u001b[39mNone\u001b[39;00m):\n\u001b[1;32m    351\u001b[0m \u001b[39m    \u001b[39m\u001b[39m\"\"\"\u001b[39;00m\n\u001b[1;32m    352\u001b[0m \u001b[39m    Run detectons on the provided image. The image must be a grayscale\u001b[39;00m\n\u001b[1;32m    353\u001b[0m \u001b[39m    image of type numpy.uint8.\u001b[39;00m\n\u001b[1;32m    354\u001b[0m \u001b[39m    \"\"\"\u001b[39;00m\n\u001b[0;32m--> 355\u001b[0m     \u001b[39massert\u001b[39;00m \u001b[39mlen\u001b[39m(img\u001b[39m.\u001b[39mshape) \u001b[39m==\u001b[39m \u001b[39m2\u001b[39m\n\u001b[1;32m    356\u001b[0m     \u001b[39massert\u001b[39;00m img\u001b[39m.\u001b[39mdtype \u001b[39m==\u001b[39m numpy\u001b[39m.\u001b[39muint8\n\u001b[1;32m    358\u001b[0m     c_img \u001b[39m=\u001b[39m \u001b[39mself\u001b[39m\u001b[39m.\u001b[39m_convert_image(img)\n",
      "\u001b[0;31mAssertionError\u001b[0m: "
     ]
    }
   ],
   "source": [
    "My_tags.detect_tags(gray)"
   ]
  },
  {
   "cell_type": "code",
   "execution_count": null,
   "metadata": {},
   "outputs": [],
   "source": [
    "pid_vertical = PID(K_p=0.1, K_i=0.0, K_d=0.01, integral_limit=1)\n",
    "pid_horizontal = PID(K_p=0.1, K_i=0.0, K_d=0.01, integral_limit=1)"
   ]
  },
  {
   "cell_type": "code",
   "execution_count": null,
   "metadata": {},
   "outputs": [],
   "source": [
    "img = cv2.imread(\"test_image.png\")\n",
    "plt.imshow(img)\n",
    "plt.show()"
   ]
  },
  {
   "cell_type": "code",
   "execution_count": null,
   "metadata": {},
   "outputs": [],
   "source": [
    "a = td.make_gray(img)"
   ]
  },
  {
   "cell_type": "code",
   "execution_count": null,
   "metadata": {},
   "outputs": [],
   "source": [
    "tags=td.detect_tags(a)"
   ]
  },
  {
   "cell_type": "code",
   "execution_count": null,
   "metadata": {},
   "outputs": [],
   "source": [
    "tags[0].center.tolist()"
   ]
  },
  {
   "cell_type": "code",
   "execution_count": null,
   "metadata": {},
   "outputs": [],
   "source": [
    "get_centers_from_tags(b)"
   ]
  },
  {
   "cell_type": "code",
   "execution_count": null,
   "metadata": {},
   "outputs": [],
   "source": [
    "def get_centers_from_tags(tags):\n",
    "    center_list=[]\n",
    "    for tag in tags:\n",
    "        center_list.append(tag.center.tolist())\n",
    "    return(center_list)"
   ]
  },
  {
   "cell_type": "code",
   "execution_count": null,
   "metadata": {},
   "outputs": [],
   "source": [
    "a=td.get_distance_from_center(img, get_centers_from_tags(b)[0])"
   ]
  },
  {
   "cell_type": "code",
   "execution_count": null,
   "metadata": {},
   "outputs": [],
   "source": []
  }
 ],
 "metadata": {
  "kernelspec": {
   "display_name": "bluecv",
   "language": "python",
   "name": "python3"
  },
  "language_info": {
   "codemirror_mode": {
    "name": "ipython",
    "version": 3
   },
   "file_extension": ".py",
   "mimetype": "text/x-python",
   "name": "python",
   "nbconvert_exporter": "python",
   "pygments_lexer": "ipython3",
   "version": "3.9.2"
  },
  "orig_nbformat": 4
 },
 "nbformat": 4,
 "nbformat_minor": 2
}
